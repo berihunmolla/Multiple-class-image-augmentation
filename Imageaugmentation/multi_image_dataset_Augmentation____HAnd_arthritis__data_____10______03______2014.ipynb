{
 "cells": [
  {
   "cell_type": "markdown",
   "metadata": {
    "id": "k3F3GeeOh2ti"
   },
   "source": [
    "## Step 1. image data augmentation..."
   ]
  },
  {
   "cell_type": "code",
   "execution_count": 2,
   "metadata": {},
   "outputs": [
    {
     "name": "stdout",
     "output_type": "stream",
     "text": [
      "Requirement already satisfied: split-folders in c:\\users\\u\\anaconda3\\lib\\site-packages (0.5.1)\n",
      "Note: you may need to restart the kernel to use updated packages.\n"
     ]
    }
   ],
   "source": [
    "pip install split-folders"
   ]
  },
  {
   "cell_type": "code",
   "execution_count": 3,
   "metadata": {},
   "outputs": [],
   "source": [
    "from tensorflow.keras.preprocessing.image import ImageDataGenerator as IDG\n",
    "#conda install -c conda-forge tensorflow"
   ]
  },
  {
   "cell_type": "code",
   "execution_count": 33,
   "metadata": {},
   "outputs": [
    {
     "name": "stderr",
     "output_type": "stream",
     "text": [
      "Copying files: 2247 files [00:12, 180.74 files/s]\n"
     ]
    }
   ],
   "source": [
    "import splitfolders  # or import split_folders\n",
    "IMAGE_SIZE = [224, 224]\n",
    "\n",
    "input_folder = 'C:/Users/u/Desktop/Bizu_research/Bizu_Dataset_All__Augmented/'\n",
    "\n",
    "\n",
    "# Split with a ratio.\n",
    "# To only split into training and validation set, set a tuple to `ratio`, i.e, `(.8, .2)`.\n",
    "#Train, val, test\n",
    "splitfolders.ratio(input_folder, output=\"C:/Users/u/Desktop/Bizu_research/Bizu_Augmented_splited\", \n",
    "                   seed=42, ratio=(.8, .1, .1), \n",
    "                   group_prefix=None) # default values\n",
    "\n"
   ]
  },
  {
   "cell_type": "code",
   "execution_count": 4,
   "metadata": {},
   "outputs": [
    {
     "name": "stdout",
     "output_type": "stream",
     "text": [
      "Requirement already satisfied: numpy==1.21 in c:\\users\\u\\anaconda3\\lib\\site-packages (1.21.0)\n",
      "Note: you may need to restart the kernel to use updated packages.\n"
     ]
    }
   ],
   "source": [
    "pip install numpy==1.21"
   ]
  },
  {
   "cell_type": "code",
   "execution_count": 5,
   "metadata": {},
   "outputs": [],
   "source": [
    "import numpy as np\n",
    "from tensorflow.keras.preprocessing.image import ImageDataGenerator, array_to_img, load_img\n",
    "from tensorflow.keras.preprocessing.image import ImageDataGenerator as IDG "
   ]
  },
  {
   "cell_type": "code",
   "execution_count": 6,
   "metadata": {
    "scrolled": false
   },
   "outputs": [],
   "source": [
    "datagen = ImageDataGenerator(\n",
    "        rotation_range=0.45,\n",
    "        width_shift_range=0.3,\n",
    "        height_shift_range=0.3,\n",
    "        shear_range=0.25,\n",
    "        zoom_range=0.25,\n",
    "        horizontal_flip=True,\n",
    "        fill_mode='reflect')"
   ]
  },
  {
   "cell_type": "code",
   "execution_count": 7,
   "metadata": {},
   "outputs": [],
   "source": [
    "image_directory = 'C:/Users/u/Desktop/Bizu_research/Bizu_Dataset_All/PA/'\n",
    "SIZE= 224\n",
    "dataset = []\n"
   ]
  },
  {
   "cell_type": "code",
   "execution_count": 8,
   "metadata": {},
   "outputs": [],
   "source": [
    "from skimage import io\n",
    "#C:\\Users\\u\\Desktop\\Bizu_research\\Bizu_Dataset_All__Augmented\\Narmal_hand"
   ]
  },
  {
   "cell_type": "code",
   "execution_count": 94,
   "metadata": {},
   "outputs": [],
   "source": [
    "#multi class image augmentation"
   ]
  },
  {
   "cell_type": "code",
   "execution_count": 30,
   "metadata": {},
   "outputs": [
    {
     "name": "stdout",
     "output_type": "stream",
     "text": [
      "Found 225 images belonging to 2 classes.\n"
     ]
    }
   ],
   "source": [
    "i = 0\n",
    "for batch in datagen.flow_from_directory(directory ='C:/Users/u/Desktop/Bizu_research/Bizu_Dataset_All - Copy/Normal_hand/',\n",
    "                                        batch_size = 16,\n",
    "                                        target_size = (224,224),\n",
    "                                      \n",
    "                                        save_to_dir = 'C:/Users/u/Desktop/Bizu_research/Bizu_Dataset_All__Augmented/Narmal_hand',\n",
    "                                        save_prefix = 'NH_',\n",
    "                                        save_format = 'JPG'):\n",
    "    i+=1\n",
    "    if i>38:\n",
    "     break"
   ]
  },
  {
   "cell_type": "code",
   "execution_count": 28,
   "metadata": {},
   "outputs": [
    {
     "name": "stdout",
     "output_type": "stream",
     "text": [
      "Found 257 images belonging to 2 classes.\n"
     ]
    }
   ],
   "source": [
    "i = 0\n",
    "for batch in datagen.flow_from_directory(directory ='C:/Users/u/Desktop/Bizu_research/Bizu_Dataset_All - Copy/OA/',\n",
    "                                        batch_size = 16,\n",
    "                                        target_size = (224,224),\n",
    "                                      \n",
    "                                        save_to_dir = 'C:/Users/u/Desktop/Bizu_research/Bizu_Dataset_All__Augmented/OA/',\n",
    "                                        save_prefix = 'OA_',\n",
    "                                        save_format = 'JPG'):\n",
    "    i+=1\n",
    "    if i>36:\n",
    "     break"
   ]
  },
  {
   "cell_type": "code",
   "execution_count": 32,
   "metadata": {},
   "outputs": [
    {
     "name": "stdout",
     "output_type": "stream",
     "text": [
      "Found 147 images belonging to 2 classes.\n"
     ]
    }
   ],
   "source": [
    "i = 0\n",
    "for batch in datagen.flow_from_directory(directory ='C:/Users/u/Desktop/Bizu_research/Bizu_Dataset_All - Copy/PA/',\n",
    "                                        batch_size = 16,\n",
    "                                        target_size = (224,224),\n",
    "                                      \n",
    "                                        save_to_dir = 'C:/Users/u/Desktop/Bizu_research/Bizu_Dataset_All__Augmented/PA',\n",
    "                                        save_prefix = 'PA_',\n",
    "                                        save_format = 'JPG'):\n",
    "    i+=1\n",
    "    if i>34:\n",
    "     break"
   ]
  },
  {
   "cell_type": "code",
   "execution_count": 26,
   "metadata": {},
   "outputs": [
    {
     "name": "stdout",
     "output_type": "stream",
     "text": [
      "Found 285 images belonging to 2 classes.\n"
     ]
    }
   ],
   "source": [
    "i = 0\n",
    "for batch in datagen.flow_from_directory(directory ='C:/Users/u/Desktop/Bizu_research/Bizu_Dataset_All - Copy/RA/',\n",
    "                                        batch_size = 16,\n",
    "                                        target_size = (224,224),\n",
    "                                      \n",
    "                                        save_to_dir = 'C:/Users/u/Desktop/Bizu_research/Bizu_Dataset_All__Augmented/RA',\n",
    "                                        save_prefix = 'RA_',\n",
    "                                        save_format = 'JPG'):\n",
    "    i+=1\n",
    "    if i>35:\n",
    "     break"
   ]
  },
  {
   "cell_type": "code",
   "execution_count": null,
   "metadata": {},
   "outputs": [],
   "source": []
  }
 ],
 "metadata": {
  "accelerator": "GPU",
  "colab": {
   "authorship_tag": "ABX9TyMw03LVpzl5S4bB5lDHqcBi",
   "collapsed_sections": [],
   "include_colab_link": true,
   "name": "Multiclass_Classification_CNN_DataAug.ipynb",
   "provenance": [],
   "toc_visible": true
  },
  "kernelspec": {
   "display_name": "Python 3",
   "language": "python",
   "name": "python3"
  },
  "language_info": {
   "codemirror_mode": {
    "name": "ipython",
    "version": 3
   },
   "file_extension": ".py",
   "mimetype": "text/x-python",
   "name": "python",
   "nbconvert_exporter": "python",
   "pygments_lexer": "ipython3",
   "version": "3.8.5"
  }
 },
 "nbformat": 4,
 "nbformat_minor": 1
}
